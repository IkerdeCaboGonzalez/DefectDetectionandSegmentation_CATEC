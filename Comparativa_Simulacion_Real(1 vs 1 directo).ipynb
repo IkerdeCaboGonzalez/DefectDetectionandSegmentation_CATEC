{
 "cells": [
  {
   "cell_type": "code",
   "execution_count": null,
   "id": "8126d6a6",
   "metadata": {},
   "outputs": [],
   "source": [
    "# Vamos a ver klk"
   ]
  }
 ],
 "metadata": {
  "language_info": {
   "name": "python"
  }
 },
 "nbformat": 4,
 "nbformat_minor": 5
}
